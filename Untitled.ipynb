{
 "cells": [
  {
   "cell_type": "code",
   "execution_count": 1,
   "id": "c421a50f-8f5c-4f89-b55d-965ed7badb06",
   "metadata": {},
   "outputs": [],
   "source": [
    "import pandas as pd\n",
    "import matplotlib.pyplot as plt\n",
    "\n",
    "# загружаем данные с предсказанными значениями uplift\n",
    "uplift_data = pd.read_csv('ab_results.csv')  # замените на путь к вашему файлу"
   ]
  },
  {
   "cell_type": "code",
   "execution_count": 2,
   "id": "5cd28fe0-ea91-400d-912e-333b54fa6779",
   "metadata": {},
   "outputs": [
    {
     "name": "stdout",
     "output_type": "stream",
     "text": [
      "        usage_duration  number_of_bank_cards  money_spent_amount  \\\n",
      "0             4.675074                     1       463182.628027   \n",
      "1             4.315465                     1       379881.205811   \n",
      "2             5.135106                     1       528345.551898   \n",
      "3             4.357843                     1       568219.437346   \n",
      "4             4.518232                     1       340441.730023   \n",
      "...                ...                   ...                 ...   \n",
      "399995        6.591719                     1       529039.127112   \n",
      "399996        1.389599                     1       525259.159120   \n",
      "399997        4.220414                     1       519899.700921   \n",
      "399998        6.497928                     1       548193.088969   \n",
      "399999        3.576213                     2       371420.902973   \n",
      "\n",
      "        visit_frequency  number_of_visited_shops  \\\n",
      "0              6.782820                        4   \n",
      "1              6.947705                        3   \n",
      "2              8.665648                        7   \n",
      "3              5.002878                        3   \n",
      "4              6.979684                        5   \n",
      "...                 ...                      ...   \n",
      "399995         6.701321                        3   \n",
      "399996         5.497358                        3   \n",
      "399997         6.544434                        3   \n",
      "399998         4.539447                        2   \n",
      "399999         5.830439                        4   \n",
      "\n",
      "        number_of_viewed_communications        age  treatment  target  \n",
      "0                                    58  65.529513          0       0  \n",
      "1                                    81  41.285985          1       0  \n",
      "2                                    89  39.280205          1       1  \n",
      "3                                    46  47.544483          1       0  \n",
      "4                                    58  56.911754          0       0  \n",
      "...                                 ...        ...        ...     ...  \n",
      "399995                               70  39.412018          1       1  \n",
      "399996                               59  51.207295          0       0  \n",
      "399997                               66  45.253439          0       0  \n",
      "399998                               66  42.603539          0       0  \n",
      "399999                               76  42.958059          1       0  \n",
      "\n",
      "[400000 rows x 9 columns]\n"
     ]
    }
   ],
   "source": [
    "print(uplift_data)"
   ]
  },
  {
   "cell_type": "code",
   "execution_count": 3,
   "id": "24380b9d-5add-437e-8ef4-08e182bf3cb3",
   "metadata": {},
   "outputs": [
    {
     "name": "stdout",
     "output_type": "stream",
     "text": [
      "Uplift AUC: 0.16\n",
      "Qini AUC: 0.20\n"
     ]
    }
   ],
   "source": [
    "import numpy as np\n",
    "import pandas as pd\n",
    "from sklearn.linear_model import LinearRegression\n",
    "from sklearn.model_selection import train_test_split\n",
    "from sklift.metrics import uplift_auc_score, qini_auc_score\n",
    "from catboost import CatBoostClassifier\n",
    "\n",
    "data = pd.read_csv(\"ab_results.csv\")\n",
    "\n",
    "# разделим данные на признаки и целевую переменную\n",
    "X = data.drop(['target'], axis=1)  # все столбцы, кроме целевой переменной\n",
    "y = data['target']  # целевая переменная (например, количество поездок)\n",
    "\n",
    "# Разделим данные на обучающую и тестовую выборки\n",
    "X_train, X_test, y_train, y_test = train_test_split(X, y, test_size=0.2, \n",
    "                                    stratify=data[['target', 'treatment']],\n",
    "                                    random_state=42)\n",
    "\n",
    "# 1. Разделяем обучающую выборку на treatment=1 и treatment=0\n",
    "X_treat = X_train[X_train['treatment'] == 1].drop('treatment', axis=1)\n",
    "y_treat = y_train[X_train['treatment'] == 1]\n",
    "\n",
    "X_control = X_train[X_train['treatment'] == 0].drop('treatment', axis=1)\n",
    "y_control = y_train[X_train['treatment'] == 0]\n",
    "\n",
    "# 2. Обучаем outcome-модели для treatment и control\n",
    "outcome_treat = CatBoostClassifier(random_state=13, iterations=100, verbose=0)\n",
    "outcome_control = CatBoostClassifier(random_state=13, iterations=100, verbose=0)\n",
    "\n",
    "outcome_treat.fit(X_treat, y_treat)\n",
    "outcome_control.fit(X_control, y_control)\n",
    "\n",
    "# 3. Строим «псевдотаргеты» (imputed treatment effects)\n",
    "# Для объектов из treatment-группы: tau0 = y1 - M0(x)\n",
    "mu0_treat = outcome_control.predict_proba(X_treat)[:, 1]\n",
    "tau0 = y_treat.values - mu0_treat\n",
    "\n",
    "# Для объектов из контрольной группы: tau1 = M1(x) - y0\n",
    "mu1_control = outcome_treat.predict_proba(X_control)[:, 1]\n",
    "tau1 = mu1_control - y_control.values\n",
    "\n",
    "# 4. Обучаем effect-модели на псевдотаргетах\n",
    "effect_0 = LinearRegression()\n",
    "effect_1 = LinearRegression()\n",
    "effect_0.fit(X_control, tau1)\n",
    "effect_1.fit(X_treat, tau0)\n",
    "\n",
    "# 5. Оцениваем склонность к получению воздействия\n",
    "propensity = CatBoostClassifier(random_state=13, iterations=100, verbose=0)\n",
    "propensity.fit(X_train.drop('treatment', axis=1), X_train['treatment'])\n",
    "e_test = propensity.predict_proba(X_test.drop('treatment', axis=1))[:, 1]\n",
    "\n",
    "# 6. Получаем предсказания uplift для тестовой выборки\n",
    "X_test_features = X_test.drop('treatment', axis=1)\n",
    "tau0_pred = effect_0.predict(X_test_features)\n",
    "tau1_pred = effect_1.predict(X_test_features)\n",
    "\n",
    "uplift_pred = e_test * tau1_pred + (1 - e_test) * tau0_pred\n",
    "\n",
    "# 7. Оценка метрик uplift\n",
    "uplift_score = uplift_auc_score(\n",
    "    y_test.values,\n",
    "    uplift_pred,\n",
    "    X_test['treatment'].values\n",
    ")\n",
    "qini_score = qini_auc_score(\n",
    "    y_test.values,\n",
    "    uplift_pred,\n",
    "    X_test['treatment'].values\n",
    ")\n",
    "\n",
    "print(f\"Uplift AUC: {uplift_score:.2f}\")\n",
    "print(f\"Qini AUC: {qini_score:.2f}\")"
   ]
  },
  {
   "cell_type": "code",
   "execution_count": null,
   "id": "96d0c1a1-47d6-4496-9188-ad97841934e1",
   "metadata": {},
   "outputs": [],
   "source": []
  }
 ],
 "metadata": {
  "kernelspec": {
   "display_name": "Python 3 (ipykernel)",
   "language": "python",
   "name": "python3"
  },
  "language_info": {
   "codemirror_mode": {
    "name": "ipython",
    "version": 3
   },
   "file_extension": ".py",
   "mimetype": "text/x-python",
   "name": "python",
   "nbconvert_exporter": "python",
   "pygments_lexer": "ipython3",
   "version": "3.11.0rc1"
  }
 },
 "nbformat": 4,
 "nbformat_minor": 5
}
